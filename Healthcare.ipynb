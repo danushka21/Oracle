{
  "nbformat": 4,
  "nbformat_minor": 0,
  "metadata": {
    "colab": {
      "provenance": []
    },
    "kernelspec": {
      "name": "python3",
      "display_name": "Python 3"
    },
    "language_info": {
      "name": "python"
    }
  },
  "cells": [
    {
      "cell_type": "code",
      "execution_count": 2,
      "metadata": {
        "colab": {
          "base_uri": "https://localhost:8080/"
        },
        "id": "o6IrMPWeW7bM",
        "outputId": "581a18fc-81eb-4367-fd82-5d0e6b5781da"
      },
      "outputs": [
        {
          "output_type": "stream",
          "name": "stdout",
          "text": [
            "Missing Values per Column:\n",
            " Name                  50384\n",
            "Age                   50384\n",
            "Gender                50384\n",
            "Blood Type            50384\n",
            "Medical Condition     50384\n",
            "Date of Admission     50384\n",
            "Doctor                50384\n",
            "Hospital              50384\n",
            "Insurance Provider    50384\n",
            "Billing Amount        50384\n",
            "Room Number           50384\n",
            "Admission Type        50384\n",
            "Discharge Date        50384\n",
            "Medication            50384\n",
            "Test Results          50384\n",
            "dtype: int64\n",
            "Removed 50383 duplicate records\n"
          ]
        },
        {
          "output_type": "stream",
          "name": "stderr",
          "text": [
            "<ipython-input-2-758bcbc45ae8>:49: SettingWithCopyWarning: \n",
            "A value is trying to be set on a copy of a slice from a DataFrame.\n",
            "Try using .loc[row_indexer,col_indexer] = value instead\n",
            "\n",
            "See the caveats in the documentation: https://pandas.pydata.org/pandas-docs/stable/user_guide/indexing.html#returning-a-view-versus-a-copy\n",
            "  df[col] = np.where(df[col] < lower_bound, lower_bound,\n",
            "<ipython-input-2-758bcbc45ae8>:49: SettingWithCopyWarning: \n",
            "A value is trying to be set on a copy of a slice from a DataFrame.\n",
            "Try using .loc[row_indexer,col_indexer] = value instead\n",
            "\n",
            "See the caveats in the documentation: https://pandas.pydata.org/pandas-docs/stable/user_guide/indexing.html#returning-a-view-versus-a-copy\n",
            "  df[col] = np.where(df[col] < lower_bound, lower_bound,\n",
            "<ipython-input-2-758bcbc45ae8>:49: SettingWithCopyWarning: \n",
            "A value is trying to be set on a copy of a slice from a DataFrame.\n",
            "Try using .loc[row_indexer,col_indexer] = value instead\n",
            "\n",
            "See the caveats in the documentation: https://pandas.pydata.org/pandas-docs/stable/user_guide/indexing.html#returning-a-view-versus-a-copy\n",
            "  df[col] = np.where(df[col] < lower_bound, lower_bound,\n",
            "<ipython-input-2-758bcbc45ae8>:56: SettingWithCopyWarning: \n",
            "A value is trying to be set on a copy of a slice from a DataFrame.\n",
            "Try using .loc[row_indexer,col_indexer] = value instead\n",
            "\n",
            "See the caveats in the documentation: https://pandas.pydata.org/pandas-docs/stable/user_guide/indexing.html#returning-a-view-versus-a-copy\n",
            "  df['Gender'] = df['Gender'].astype('category')\n",
            "<ipython-input-2-758bcbc45ae8>:65: SettingWithCopyWarning: \n",
            "A value is trying to be set on a copy of a slice from a DataFrame.\n",
            "Try using .loc[row_indexer,col_indexer] = value instead\n",
            "\n",
            "See the caveats in the documentation: https://pandas.pydata.org/pandas-docs/stable/user_guide/indexing.html#returning-a-view-versus-a-copy\n",
            "  df[col] = le.fit_transform(df[col])\n"
          ]
        },
        {
          "output_type": "stream",
          "name": "stdout",
          "text": [
            "Data cleaning and preprocessing complete. Saved to 'cleaned_healthcare_data.csv'\n"
          ]
        }
      ],
      "source": [
        "# Data Cleaning and Preparation for Disease Prediction\n",
        "\n",
        "import pandas as pd\n",
        "import numpy as np\n",
        "from sklearn.preprocessing import StandardScaler, LabelEncoder\n",
        "from sklearn.impute import SimpleImputer\n",
        "import seaborn as sns\n",
        "import matplotlib.pyplot as plt\n",
        "\n",
        "# Load dataset (replace with actual file path or source)\n",
        "df = pd.read_csv(\"healthcare_dataset.csv\")\n",
        "\n",
        "# ------------------------\n",
        "# 1. Handling Missing Values\n",
        "# ------------------------\n",
        "# Summary of missing values\n",
        "missing_summary = df.isnull().sum()\n",
        "print(\"Missing Values per Column:\\n\", missing_summary)\n",
        "\n",
        "# Impute numerical features with median\n",
        "num_cols = df.select_dtypes(include=[np.number]).columns\n",
        "num_imputer = SimpleImputer(strategy='median')\n",
        "df[num_cols] = num_imputer.fit_transform(df[num_cols])\n",
        "\n",
        "# Impute categorical features with mode\n",
        "cat_cols = df.select_dtypes(include=[\"object\"]).columns\n",
        "cat_imputer = SimpleImputer(strategy='most_frequent')\n",
        "df[cat_cols] = cat_imputer.fit_transform(df[cat_cols])\n",
        "\n",
        "# ------------------------\n",
        "# 2. Removing Duplicate Records\n",
        "# ------------------------\n",
        "initial_shape = df.shape\n",
        "df = df.drop_duplicates()\n",
        "final_shape = df.shape\n",
        "print(f\"Removed {initial_shape[0] - final_shape[0]} duplicate records\")\n",
        "\n",
        "# ------------------------\n",
        "# 3. Outlier Detection and Treatment\n",
        "# ------------------------\n",
        "# Using IQR method for numeric features\n",
        "for col in num_cols:\n",
        "    Q1 = df[col].quantile(0.25)\n",
        "    Q3 = df[col].quantile(0.75)\n",
        "    IQR = Q3 - Q1\n",
        "    lower_bound = Q1 - 1.5 * IQR\n",
        "    upper_bound = Q3 + 1.5 * IQR\n",
        "    # Cap outliers\n",
        "    df[col] = np.where(df[col] < lower_bound, lower_bound,\n",
        "                       np.where(df[col] > upper_bound, upper_bound, df[col]))\n",
        "\n",
        "# ------------------------\n",
        "# 4. Convert Data Types and Ensure Consistency\n",
        "# ------------------------\n",
        "# Convert categorical-like columns (e.g., 'Gender') to category dtype\n",
        "df['Gender'] = df['Gender'].astype('category')\n",
        "\n",
        "# ------------------------\n",
        "# 5. Encode Categorical Variables\n",
        "# ------------------------\n",
        "# Label Encoding for binary categorical columns\n",
        "label_enc_cols = ['Gender']  # Example binary category\n",
        "le = LabelEncoder()\n",
        "for col in label_enc_cols:\n",
        "    df[col] = le.fit_transform(df[col])\n",
        "\n",
        "# One-hot Encoding for multiclass columns\n",
        "df = pd.get_dummies(df, columns=[col for col in cat_cols if col not in label_enc_cols], drop_first=True)\n",
        "\n",
        "# ------------------------\n",
        "# 6. Normalize/Standardize Features\n",
        "# ------------------------\n",
        "scaler = StandardScaler()\n",
        "df[num_cols] = scaler.fit_transform(df[num_cols])\n",
        "\n",
        "# Final cleaned dataset\n",
        "df.to_csv(\"cleaned_healthcare_data.csv\", index=False)\n",
        "print(\"Data cleaning and preprocessing complete. Saved to 'cleaned_healthcare_data.csv'\")\n"
      ]
    }
  ]
}